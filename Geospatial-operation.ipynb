{
 "cells": [
  {
   "cell_type": "markdown",
   "metadata": {},
   "source": [
    "# Introduction to geospatial machine learning\n",
    "Here, we are going to introduce the basic concepts of geospatial operations including those of relations and spatial joins.\n",
    "\n",
    "Let's import all the necessary libraries and setup our dataframe :"
   ]
  },
  {
   "cell_type": "code",
   "execution_count": 7,
   "metadata": {},
   "outputs": [],
   "source": [
    "# Import the necessary libraries\n",
    "import geopandas as gpd\n",
    "import shapely.geometry\n",
    "import matplotlib.pyplot as plt\n",
    "\n",
    "# Initialize our geodataframe (gdf)\n",
    "path_to_data = gpd.datasets.get_path(\"nybb\")\n",
    "gdf = gpd.read_file(path_to_data)\n",
    "\n",
    "# Set borough name as index\n",
    "gdf = gdf.set_index(\"BoroName\")\n",
    "\n",
    "# Get buffered region and centroid points\n",
    "gdf[\"buffered\"] = gdf.buffer(10000)\n",
    "gdf['centroid'] = gdf.centroid"
   ]
  },
  {
   "cell_type": "markdown",
   "metadata": {},
   "source": [
    "### Geospatial relations\n",
    "Geometries, such as the polygons that define the individual borough or lines that represent the boundaries between the regions or points to indicate the centroid positions, can be related to one another.\n",
    "\n",
    "#### A. Intersects\n",
    "Suppose we ask the following question: does the buffer region intersect with Brooklyn borough in New York?\n",
    "\n",
    "First we get the polygon for Brooklyn"
   ]
  },
  {
   "cell_type": "code",
   "execution_count": 8,
   "metadata": {},
   "outputs": [],
   "source": [
    "brooklyn = gdf.loc[\"Brooklyn\", \"geometry\"]"
   ]
  },
  {
   "cell_type": "markdown",
   "metadata": {},
   "source": [
    "We can then chec if the buffered region intersects it :"
   ]
  },
  {
   "cell_type": "code",
   "execution_count": 9,
   "metadata": {},
   "outputs": [
    {
     "data": {
      "text/plain": [
       "BoroName\n",
       "Staten Island     True\n",
       "Queens            True\n",
       "Brooklyn          True\n",
       "Manhattan         True\n",
       "Bronx            False\n",
       "dtype: bool"
      ]
     },
     "execution_count": 9,
     "metadata": {},
     "output_type": "execute_result"
    }
   ],
   "source": [
    "gdf[\"buffered\"].intersects(brooklyn)"
   ]
  },
  {
   "cell_type": "markdown",
   "metadata": {},
   "source": [
    "It seems that Bronx is very far away from the Brooklyn that a buffer area of 10,000 feet beyond the boundary does not intersect Brooklyn at all."
   ]
  },
  {
   "cell_type": "markdown",
   "metadata": {},
   "source": [
    "#### C. Within\n",
    "Another question could similarly arise: are the centroids contained in their respective boroughs (ie. unique centroids)? This could be performed by within relation that specifies whether a collection of points are contained in the said polygons."
   ]
  },
  {
   "cell_type": "code",
   "execution_count": 10,
   "metadata": {},
   "outputs": [
    {
     "data": {
      "text/plain": [
       "BoroName\n",
       "Staten Island    False\n",
       "Queens           False\n",
       "Brooklyn          True\n",
       "Manhattan        False\n",
       "Bronx            False\n",
       "dtype: bool"
      ]
     },
     "execution_count": 10,
     "metadata": {},
     "output_type": "execute_result"
    }
   ],
   "source": [
    "gdf[\"centroid\"].within(brooklyn)"
   ]
  },
  {
   "cell_type": "markdown",
   "metadata": {},
   "source": [
    "To be expected, the centroid of Brooklyn is located within Brooklyn polygon and not within the other regions."
   ]
  },
  {
   "cell_type": "markdown",
   "metadata": {},
   "source": [
    "### Spatial Joins\n",
    "Another important geospatial operations that we could perform with geopandas is spatial joins. As the name suggests, it allows two distinct geometries to be connected based on certain geometric criteria.\n",
    "\n",
    "Let us suppose we have a few bus stations within the area, and we wanted to identify the borough in which each of the station lies."
   ]
  },
  {
   "cell_type": "code",
   "execution_count": 12,
   "metadata": {},
   "outputs": [],
   "source": [
    "#generate points\n",
    "b = [int(x) for x in gdf.total_bounds]\n",
    "N = 6\n",
    "\n",
    "pointdf = gpd.GeoDataFrame([\n",
    "    {'geometry': shapely.geometry.Point(x, y), 'value1':x+y, 'value2':x-y}\n",
    "    for x, y in zip(range(b[0], b[2], int((b[2] - b[0]) / N)),\n",
    "                    range(b[1], b[3], int((b[3] - b[1]) / N)))\n",
    "    ])\n",
    "\n",
    "#Make sure they are using the same projection reference\n",
    "pointdf.crs = gdf.crs"
   ]
  },
  {
   "cell_type": "markdown",
   "metadata": {},
   "source": [
    "The first solution that comes to mind would be to perform a within operation as before, and then for each borough, the True index value will be assigned to that point (eg. if bus station 1 is within Brooklyn, assigns Brooklyn to the point item).\n",
    "\n",
    "The spatial join can then be performed as follows:"
   ]
  },
  {
   "cell_type": "code",
   "execution_count": 14,
   "metadata": {},
   "outputs": [
    {
     "data": {
      "text/html": [
       "<div>\n",
       "<style scoped>\n",
       "    .dataframe tbody tr th:only-of-type {\n",
       "        vertical-align: middle;\n",
       "    }\n",
       "\n",
       "    .dataframe tbody tr th {\n",
       "        vertical-align: top;\n",
       "    }\n",
       "\n",
       "    .dataframe thead th {\n",
       "        text-align: right;\n",
       "    }\n",
       "</style>\n",
       "<table border=\"1\" class=\"dataframe\">\n",
       "  <thead>\n",
       "    <tr style=\"text-align: right;\">\n",
       "      <th></th>\n",
       "      <th>geometry</th>\n",
       "      <th>value1</th>\n",
       "      <th>value2</th>\n",
       "      <th>index_right</th>\n",
       "      <th>BoroCode</th>\n",
       "      <th>Shape_Leng</th>\n",
       "      <th>Shape_Area</th>\n",
       "      <th>buffered</th>\n",
       "      <th>centroid</th>\n",
       "    </tr>\n",
       "  </thead>\n",
       "  <tbody>\n",
       "    <tr>\n",
       "      <th>1</th>\n",
       "      <td>POINT (938876.000 145574.000)</td>\n",
       "      <td>1084450</td>\n",
       "      <td>793302</td>\n",
       "      <td>Staten Island</td>\n",
       "      <td>5</td>\n",
       "      <td>330470.010332</td>\n",
       "      <td>1.623820e+09</td>\n",
       "      <td>POLYGON ((903234.894 123347.784, 903178.057 12...</td>\n",
       "      <td>POINT (941639.450 150931.991)</td>\n",
       "    </tr>\n",
       "  </tbody>\n",
       "</table>\n",
       "</div>"
      ],
      "text/plain": [
       "                        geometry   value1  value2    index_right  BoroCode  \\\n",
       "1  POINT (938876.000 145574.000)  1084450  793302  Staten Island         5   \n",
       "\n",
       "      Shape_Leng    Shape_Area  \\\n",
       "1  330470.010332  1.623820e+09   \n",
       "\n",
       "                                            buffered  \\\n",
       "1  POLYGON ((903234.894 123347.784, 903178.057 12...   \n",
       "\n",
       "                        centroid  \n",
       "1  POINT (941639.450 150931.991)  "
      ]
     },
     "execution_count": 14,
     "metadata": {},
     "output_type": "execute_result"
    }
   ],
   "source": [
    "from geopandas.tools import sjoin\n",
    "\n",
    "# Joining the NYC borough INTO the pointdf\n",
    "sjoin(pointdf, gdf, how=\"inner\", op=\"intersects\")\n",
    "\n",
    "#We choose inner option to avoid having a lot of NaNs"
   ]
  }
 ],
 "metadata": {
  "interpreter": {
   "hash": "8950c6d3f9258f6d9a9ee83fde80cfe64e16315ef861c22eac75610a4b6e07f1"
  },
  "kernelspec": {
   "display_name": "Python 3.10.1 64-bit ('geo_env': conda)",
   "language": "python",
   "name": "python3"
  },
  "language_info": {
   "codemirror_mode": {
    "name": "ipython",
    "version": 3
   },
   "file_extension": ".py",
   "mimetype": "text/x-python",
   "name": "python",
   "nbconvert_exporter": "python",
   "pygments_lexer": "ipython3",
   "version": "3.10.1"
  },
  "orig_nbformat": 4
 },
 "nbformat": 4,
 "nbformat_minor": 2
}
