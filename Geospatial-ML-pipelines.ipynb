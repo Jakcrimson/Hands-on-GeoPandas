{
 "cells": [
  {
   "cell_type": "markdown",
   "metadata": {},
   "source": [
    "# Introduction to geospatial machine learning\n",
    "\n",
    "In this post we are going to wrap up the series on Geopandas Hands-On by covering the different classes of Geospatial Machine Learning Tasks and how to approach them. We are going to get familiar with the different types of Geospatial Machine Learning Task, and get an early intuition as to how they differ from the typical non-spatial problems. The common tasks that we are going to discuss will be Geospatial Regression, Classification, and Clustering.\n",
    "\n",
    "### Geospatial Regression\n",
    "\n",
    "The non-spatial regression problem takes into account multiple input variables to estimate a value of the target output. Typically, the target variable is in the form of a continuous variable.\n",
    "\n",
    "Take for instance a regression task to predict the housing price given some other predictors, such as, the unit’s size, the number of rooms, and its historical selling price over the last 20 years. You would then find the best-fit equation that minimizes a certain error function. \n",
    "\n",
    "Applied to a Geospatial regression, the price of a house would be spatially aware. What it means is that the location of one house might affect the pricing for its neighboring houses. Not only that, but the independent input variables also have their corresponding spatial dependencies. For example, the historical price of one house can have an impact on the historical price of the other houses.\n",
    "\n",
    "In the more general cases, even the independent variables can have spatial influences on other variables (eg. the number of rooms in a housing complex can affect the average size of family in the nearby locations). These spatial inter-dependencies are key to Geospatial Regression problem.\n",
    "\n",
    "Normally, some of the more common Geospatial Regression algorithms that can capture these spatial dependencies are:\n",
    "- Ordinary Least Squares (OLS) Regression\n",
    "- Geographically Weighted Regression (GWR)\n"
   ]
  },
  {
   "cell_type": "markdown",
   "metadata": {},
   "source": [
    "### Geospatial Classification\n",
    "\n",
    "Similarly, the non-spatial classification task takes into account multiple input variables to estimate the class of the target output. Typically, the target output is in the form of a discrete variable representing a specific class (eg. a cat or a dog).\n",
    "\n",
    "In Geospatial Classification task, however, you normally would perform classification on a pixel-level or an entire raster dataset. This can include semantic segmentation, instance segmentation, or raster classification.\n",
    "\n",
    "Similar to the typical classification problem, the Geospatial Classification task can be solved using a deep neural network (Computer Vision), Random Forest, Support Vector Machine (SVM), or Maximum Likelihood models."
   ]
  },
  {
   "cell_type": "markdown",
   "metadata": {},
   "source": [
    "### Geospatial Clustering\n",
    "\n",
    "Last but not least, another common Geospatial Machine Learning task includes the Geospatial Clustering. In conventional non-spatial tasks, we can perform clustering by grouping a large number of observations into a few ‘hotspots’ according to some measures of similarity such as distance, density, etc.\n",
    "But according to the first law of Geography: *“everything is related to everything else, but near things are more related than distant things.” — Waldo Tobler*\n",
    "\n",
    "This makes clustering in Geospatial Machine Learning context more difficult because we also need to consider how each observation is related to one another in its spatial context (ie. spatially-constrained).\n",
    "\n",
    "One interesting Geospatial clustering problem is the **Space-Time Pattern Mining**. In addition to considering the spatial dependencies between different observation points or polygons, this class of algorithm also considers the temporal dependencies. To be able to cluster a space-time-observation point, a 3-D diagram is typically constructed where the clustering algorithm can then work.\n",
    "\n",
    "Some of the more common models to solve Geospatial Clustering problem are:\n",
    "- Spatially Constrained Multivariate Clustering\n",
    "- Hotspot Analysis\n",
    "- Density-based Clustering\n",
    "- 3D Spate-Time Pattern Mining"
   ]
  }
 ],
 "metadata": {
  "interpreter": {
   "hash": "8950c6d3f9258f6d9a9ee83fde80cfe64e16315ef861c22eac75610a4b6e07f1"
  },
  "kernelspec": {
   "display_name": "Python 3.10.1 64-bit ('geo_env': conda)",
   "language": "python",
   "name": "python3"
  },
  "language_info": {
   "codemirror_mode": {
    "name": "ipython",
    "version": 3
   },
   "file_extension": ".py",
   "mimetype": "text/x-python",
   "name": "python",
   "nbconvert_exporter": "python",
   "pygments_lexer": "ipython3",
   "version": "3.10.1"
  },
  "orig_nbformat": 4
 },
 "nbformat": 4,
 "nbformat_minor": 2
}
